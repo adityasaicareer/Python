{
 "cells": [
  {
   "cell_type": "code",
   "execution_count": 1,
   "id": "451c6469-8d3a-4de1-98e6-b5af78d31588",
   "metadata": {},
   "outputs": [],
   "source": [
    "from scipy import stats"
   ]
  },
  {
   "cell_type": "code",
   "execution_count": 2,
   "id": "3649f9f6-0186-435d-bf35-629faf9482c4",
   "metadata": {},
   "outputs": [],
   "source": [
    "import numpy as np"
   ]
  },
  {
   "cell_type": "code",
   "execution_count": 3,
   "id": "bd801fee-125c-4a55-9580-ceea63af96e5",
   "metadata": {},
   "outputs": [],
   "source": [
    "a1=np.array([1,2,3,4,5])"
   ]
  },
  {
   "cell_type": "code",
   "execution_count": 4,
   "id": "e21a8fea-5b80-4889-87d5-cb0773c7dde1",
   "metadata": {},
   "outputs": [
    {
     "data": {
      "text/plain": [
       "array([1, 2, 3, 4, 5])"
      ]
     },
     "execution_count": 4,
     "metadata": {},
     "output_type": "execute_result"
    }
   ],
   "source": [
    "a1"
   ]
  },
  {
   "cell_type": "code",
   "execution_count": 5,
   "id": "6963d2a4-ae3e-4b56-b63a-e4fc7432b0e8",
   "metadata": {},
   "outputs": [],
   "source": [
    "a2=a1"
   ]
  },
  {
   "cell_type": "code",
   "execution_count": 6,
   "id": "7aff16f6-cc18-4ed4-b310-55a3525ad68d",
   "metadata": {},
   "outputs": [
    {
     "name": "stdout",
     "output_type": "stream",
     "text": [
      "PearsonRResult(statistic=1.0, pvalue=0.0)\n"
     ]
    }
   ],
   "source": [
    "print(stats.pearsonr(a1,a2))"
   ]
  },
  {
   "cell_type": "code",
   "execution_count": 8,
   "id": "4b67ca63-0103-407a-8bc5-986cfccdde6d",
   "metadata": {},
   "outputs": [],
   "source": [
    "x=stats.norm.rvs(loc=0,scale=10,size=10)"
   ]
  },
  {
   "cell_type": "code",
   "execution_count": 9,
   "id": "6236f9b1-b99c-4b02-b010-a03fc5799a44",
   "metadata": {},
   "outputs": [
    {
     "data": {
      "text/plain": [
       "array([ -2.14754867,  -3.51678381,   8.04104998,   2.53167311,\n",
       "         5.52787095,  15.15086012,  11.86826029,  23.2658789 ,\n",
       "        -6.28726737, -16.39830551])"
      ]
     },
     "execution_count": 9,
     "metadata": {},
     "output_type": "execute_result"
    }
   ],
   "source": [
    "x"
   ]
  },
  {
   "cell_type": "code",
   "execution_count": 12,
   "id": "b6e78280-9c68-4492-89be-1d15728d3558",
   "metadata": {},
   "outputs": [],
   "source": [
    "p1=stats.norm.pdf(x=-100,scale=10,loc=0)"
   ]
  },
  {
   "cell_type": "code",
   "execution_count": 13,
   "id": "b1ae60f9-c95a-42b5-839c-495253ba8323",
   "metadata": {},
   "outputs": [],
   "source": [
    "p2=stats.norm.pdf(x=0,scale=0,loc=0)"
   ]
  },
  {
   "cell_type": "code",
   "execution_count": 14,
   "id": "a75bdd01-c2fc-4c4c-94ca-d75d4ef16a2e",
   "metadata": {},
   "outputs": [
    {
     "data": {
      "text/plain": [
       "nan"
      ]
     },
     "execution_count": 14,
     "metadata": {},
     "output_type": "execute_result"
    }
   ],
   "source": [
    "p2"
   ]
  },
  {
   "cell_type": "code",
   "execution_count": 15,
   "id": "265e40c8-0cb3-4d7c-bee1-2c5475e7b39d",
   "metadata": {},
   "outputs": [
    {
     "data": {
      "text/plain": [
       "7.69459862670642e-24"
      ]
     },
     "execution_count": 15,
     "metadata": {},
     "output_type": "execute_result"
    }
   ],
   "source": [
    "p1"
   ]
  },
  {
   "cell_type": "code",
   "execution_count": 16,
   "id": "366893ce-b3a0-4d1f-b0b7-f7ead9336ee6",
   "metadata": {},
   "outputs": [],
   "source": [
    "# cummulative distribution function"
   ]
  },
  {
   "cell_type": "code",
   "execution_count": 17,
   "id": "1b5bb6f0-661a-48c9-b2d1-11507e5344a3",
   "metadata": {},
   "outputs": [],
   "source": [
    "p3=stats.norm.cdf(x=0,loc=0,scale=10)"
   ]
  },
  {
   "cell_type": "code",
   "execution_count": 18,
   "id": "b2947ae3-958d-4784-81b2-f241b92298ce",
   "metadata": {},
   "outputs": [
    {
     "data": {
      "text/plain": [
       "0.5"
      ]
     },
     "execution_count": 18,
     "metadata": {},
     "output_type": "execute_result"
    }
   ],
   "source": [
    "p3"
   ]
  },
  {
   "cell_type": "code",
   "execution_count": null,
   "id": "744aea59-764e-4410-aea8-4451f411743d",
   "metadata": {},
   "outputs": [],
   "source": []
  }
 ],
 "metadata": {
  "kernelspec": {
   "display_name": "Python 3 (ipykernel)",
   "language": "python",
   "name": "python3"
  },
  "language_info": {
   "codemirror_mode": {
    "name": "ipython",
    "version": 3
   },
   "file_extension": ".py",
   "mimetype": "text/x-python",
   "name": "python",
   "nbconvert_exporter": "python",
   "pygments_lexer": "ipython3",
   "version": "3.12.7"
  }
 },
 "nbformat": 4,
 "nbformat_minor": 5
}

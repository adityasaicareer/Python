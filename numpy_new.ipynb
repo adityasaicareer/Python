{
 "cells": [
  {
   "cell_type": "code",
   "execution_count": 2,
   "id": "6a164df0-7ea7-4e10-b9ae-285a34e4d146",
   "metadata": {},
   "outputs": [],
   "source": [
    "import numpy as np"
   ]
  },
  {
   "cell_type": "code",
   "execution_count": 3,
   "id": "e08cfb5c-7326-47bb-9758-ef822568a052",
   "metadata": {},
   "outputs": [],
   "source": [
    "a1=np.array([1,2,3])\n"
   ]
  },
  {
   "cell_type": "code",
   "execution_count": 4,
   "id": "b8199ef6-e513-4c74-a3f2-a045a21ebb3e",
   "metadata": {},
   "outputs": [
    {
     "name": "stdout",
     "output_type": "stream",
     "text": [
      "[1 2 3]\n"
     ]
    }
   ],
   "source": [
    "print(a1)"
   ]
  },
  {
   "cell_type": "code",
   "execution_count": 5,
   "id": "aa49043a-e87d-4027-8db0-420756921e34",
   "metadata": {},
   "outputs": [],
   "source": [
    "arr=np.array([5,10,15,20,20,25,30])"
   ]
  },
  {
   "cell_type": "markdown",
   "id": "6cd51ba6-777a-486a-929b-e4abb1c5fa87",
   "metadata": {},
   "source": [
    "## arr"
   ]
  },
  {
   "cell_type": "code",
   "execution_count": 6,
   "id": "20499bf1-140e-491d-829b-82f91a90c799",
   "metadata": {},
   "outputs": [
    {
     "name": "stdout",
     "output_type": "stream",
     "text": [
      "[ 5 10 15 20 20 25 30]\n"
     ]
    }
   ],
   "source": [
    "# to get the unique values from thr array of the pyrthon\n",
    "print(arr)\n"
   ]
  },
  {
   "cell_type": "code",
   "execution_count": 7,
   "id": "0bc06094-c54e-4843-9d42-ed290fdcf453",
   "metadata": {},
   "outputs": [],
   "source": [
    "unique=np.unique(arr)"
   ]
  },
  {
   "cell_type": "code",
   "execution_count": 8,
   "id": "a8e58c3a-70de-4fe7-bca9-bf52c320f883",
   "metadata": {},
   "outputs": [
    {
     "data": {
      "text/plain": [
       "array([ 5, 10, 15, 20, 25, 30])"
      ]
     },
     "execution_count": 8,
     "metadata": {},
     "output_type": "execute_result"
    }
   ],
   "source": [
    "unique\n"
   ]
  },
  {
   "cell_type": "code",
   "execution_count": 9,
   "id": "7da46120-a4e1-45d4-913b-2e80f558ad89",
   "metadata": {},
   "outputs": [],
   "source": [
    "# to find the standard deviation of the elements in arrat"
   ]
  },
  {
   "cell_type": "code",
   "execution_count": 10,
   "id": "49ca5c24-2666-4b9b-835e-f6f77c0ea63f",
   "metadata": {},
   "outputs": [],
   "source": [
    "sd=np.std(arr)"
   ]
  },
  {
   "cell_type": "code",
   "execution_count": 11,
   "id": "61e0585a-5800-4ba1-aecc-6d3ec9e467a4",
   "metadata": {},
   "outputs": [
    {
     "data": {
      "text/plain": [
       "7.953949089757175"
      ]
     },
     "execution_count": 11,
     "metadata": {},
     "output_type": "execute_result"
    }
   ],
   "source": [
    "sd"
   ]
  },
  {
   "cell_type": "code",
   "execution_count": 12,
   "id": "adbab232-fa1e-4c45-bd76-eaf178510acd",
   "metadata": {},
   "outputs": [],
   "source": [
    "# to gethe maximum"
   ]
  },
  {
   "cell_type": "code",
   "execution_count": 13,
   "id": "e8f1b91d-aee4-44ba-8b82-58485d3b6ed8",
   "metadata": {},
   "outputs": [],
   "source": [
    "maximum=arr.max()"
   ]
  },
  {
   "cell_type": "code",
   "execution_count": 14,
   "id": "b56cb0f4-7b3c-4b72-b44b-576514aa7ec4",
   "metadata": {},
   "outputs": [
    {
     "data": {
      "text/plain": [
       "30"
      ]
     },
     "execution_count": 14,
     "metadata": {},
     "output_type": "execute_result"
    }
   ],
   "source": [
    "maximum"
   ]
  },
  {
   "cell_type": "code",
   "execution_count": 15,
   "id": "3fbd1163-5218-48fb-8c15-42efd2a6e372",
   "metadata": {},
   "outputs": [],
   "source": [
    "minimum=arr.min()"
   ]
  },
  {
   "cell_type": "code",
   "execution_count": 16,
   "id": "f9441bba-ba2b-4f49-a9e9-c33b5bab5ddc",
   "metadata": {},
   "outputs": [
    {
     "data": {
      "text/plain": [
       "5"
      ]
     },
     "execution_count": 16,
     "metadata": {},
     "output_type": "execute_result"
    }
   ],
   "source": [
    "minimum"
   ]
  },
  {
   "cell_type": "code",
   "execution_count": 17,
   "id": "64bf2108-eb55-4719-a1ec-125878c563cd",
   "metadata": {},
   "outputs": [],
   "source": [
    "newarr=np.array([1,2,3,4,5,6,7])"
   ]
  },
  {
   "cell_type": "code",
   "execution_count": 18,
   "id": "86ade387-8b8e-4aac-9c78-bc0c6198f6a0",
   "metadata": {},
   "outputs": [
    {
     "data": {
      "text/plain": [
       "array([1, 2, 3, 4, 5, 6, 7])"
      ]
     },
     "execution_count": 18,
     "metadata": {},
     "output_type": "execute_result"
    }
   ],
   "source": [
    "newarr"
   ]
  },
  {
   "cell_type": "code",
   "execution_count": 19,
   "id": "5e49ec70-5bde-4f35-a720-57cbd1b0f84d",
   "metadata": {},
   "outputs": [
    {
     "data": {
      "text/plain": [
       "array([ 6, 12, 18, 24, 25, 31, 37])"
      ]
     },
     "execution_count": 19,
     "metadata": {},
     "output_type": "execute_result"
    }
   ],
   "source": [
    "arr+newarr"
   ]
  },
  {
   "cell_type": "code",
   "execution_count": 20,
   "id": "bdb126f5-6789-4d5f-b887-beb571735f48",
   "metadata": {},
   "outputs": [
    {
     "data": {
      "text/plain": [
       "array([ 5, 10, 15, 20, 20, 25, 30])"
      ]
     },
     "execution_count": 20,
     "metadata": {},
     "output_type": "execute_result"
    }
   ],
   "source": [
    "arr"
   ]
  },
  {
   "cell_type": "code",
   "execution_count": 21,
   "id": "bb545815-bd59-4c73-a653-b54572946970",
   "metadata": {},
   "outputs": [
    {
     "name": "stdout",
     "output_type": "stream",
     "text": [
      "[ 25 100 225 400 400 625 900]\n"
     ]
    }
   ],
   "source": [
    "print(arr**2)"
   ]
  },
  {
   "cell_type": "code",
   "execution_count": 22,
   "id": "ad46df3c-b245-4060-bd39-7fe36978d960",
   "metadata": {},
   "outputs": [],
   "source": [
    "# the above will print the squares of each values in the array"
   ]
  },
  {
   "cell_type": "code",
   "execution_count": 23,
   "id": "7bcc83fe-00e3-4246-93a9-e1b484e78747",
   "metadata": {},
   "outputs": [],
   "source": [
    "# to find the sum"
   ]
  },
  {
   "cell_type": "code",
   "execution_count": 24,
   "id": "54bb6384-35c0-4b70-ab96-7771a5ccde59",
   "metadata": {},
   "outputs": [
    {
     "data": {
      "text/plain": [
       "125"
      ]
     },
     "execution_count": 24,
     "metadata": {},
     "output_type": "execute_result"
    }
   ],
   "source": [
    "np.sum(arr)"
   ]
  },
  {
   "cell_type": "code",
   "execution_count": 25,
   "id": "247e7f76-538c-4059-8ef6-8df8d93eb18f",
   "metadata": {},
   "outputs": [
    {
     "name": "stdout",
     "output_type": "stream",
     "text": [
      "2675\n"
     ]
    }
   ],
   "source": [
    "print(np.sum(arr**2))"
   ]
  },
  {
   "cell_type": "code",
   "execution_count": 26,
   "id": "537db611-b2e3-4beb-b9c9-ce71ea279855",
   "metadata": {},
   "outputs": [],
   "source": [
    "# to get the shape of the array"
   ]
  },
  {
   "cell_type": "code",
   "execution_count": 27,
   "id": "cb50fa0c-003d-48d6-8061-c4035f23a118",
   "metadata": {},
   "outputs": [
    {
     "name": "stdout",
     "output_type": "stream",
     "text": [
      "(7,)\n"
     ]
    }
   ],
   "source": [
    "print(arr.shape)"
   ]
  },
  {
   "cell_type": "code",
   "execution_count": 28,
   "id": "7ef1c107-b8b4-4da1-823c-ebc9e404e0d5",
   "metadata": {},
   "outputs": [],
   "source": [
    "# to make it simple array will objects will have the methods like max,min and shape,ndim"
   ]
  },
  {
   "cell_type": "code",
   "execution_count": 29,
   "id": "fd6f9f00-c7d0-445b-b50c-4d80d17b4728",
   "metadata": {},
   "outputs": [
    {
     "name": "stdout",
     "output_type": "stream",
     "text": [
      "1\n"
     ]
    }
   ],
   "source": [
    "print(arr.ndim)"
   ]
  },
  {
   "cell_type": "code",
   "execution_count": 30,
   "id": "dcf5c244-db40-4e79-ba6e-a53eafb64b57",
   "metadata": {},
   "outputs": [],
   "source": [
    "# 2d arrays"
   ]
  },
  {
   "cell_type": "code",
   "execution_count": 31,
   "id": "2f5d105c-0e51-4015-b9f9-2610921cccea",
   "metadata": {},
   "outputs": [],
   "source": [
    "arrd=np.array([[1,2,3],[4,5,6],[7,8,9]])"
   ]
  },
  {
   "cell_type": "code",
   "execution_count": 32,
   "id": "78057f75-e9b9-4b6e-8f4d-0bb4412ef545",
   "metadata": {},
   "outputs": [
    {
     "data": {
      "text/plain": [
       "array([[1, 2, 3],\n",
       "       [4, 5, 6],\n",
       "       [7, 8, 9]])"
      ]
     },
     "execution_count": 32,
     "metadata": {},
     "output_type": "execute_result"
    }
   ],
   "source": [
    "arrd"
   ]
  },
  {
   "cell_type": "code",
   "execution_count": 33,
   "id": "afa384a5-ea03-471e-b1a4-ce2d43a66ef7",
   "metadata": {},
   "outputs": [
    {
     "name": "stdout",
     "output_type": "stream",
     "text": [
      "[[1 4 7]\n",
      " [2 5 8]\n",
      " [3 6 9]]\n"
     ]
    }
   ],
   "source": [
    "print(arrd.transpose())"
   ]
  },
  {
   "cell_type": "code",
   "execution_count": 34,
   "id": "d90f08ed-99cf-45b7-8d00-7f2d4a7b3ed9",
   "metadata": {},
   "outputs": [],
   "source": [
    "# the above will give the transpose of the given matrix"
   ]
  },
  {
   "cell_type": "code",
   "execution_count": 35,
   "id": "a36cf89c-e741-4ca6-8b49-ad0bc391a97c",
   "metadata": {},
   "outputs": [
    {
     "name": "stdout",
     "output_type": "stream",
     "text": [
      "(3, 3)\n"
     ]
    }
   ],
   "source": [
    "print(arrd.shape)"
   ]
  },
  {
   "cell_type": "code",
   "execution_count": 36,
   "id": "590e03b2-830a-40b1-a243-8dea6e349b12",
   "metadata": {},
   "outputs": [
    {
     "name": "stdout",
     "output_type": "stream",
     "text": [
      "2\n"
     ]
    }
   ],
   "source": [
    "print(arrd.ndim)"
   ]
  },
  {
   "cell_type": "code",
   "execution_count": 37,
   "id": "262dba91-76fc-4a77-94b2-9859a5e21bfc",
   "metadata": {},
   "outputs": [],
   "source": [
    "# to access the contents of the numpy is"
   ]
  },
  {
   "cell_type": "code",
   "execution_count": 38,
   "id": "7b3ce088-04c5-4af2-b1b1-693f0a619f70",
   "metadata": {},
   "outputs": [
    {
     "name": "stdout",
     "output_type": "stream",
     "text": [
      "2\n"
     ]
    }
   ],
   "source": [
    "print(arrd[0][1])"
   ]
  },
  {
   "cell_type": "code",
   "execution_count": 39,
   "id": "2b066e72-a99c-4558-baff-d307ae530761",
   "metadata": {},
   "outputs": [
    {
     "name": "stdout",
     "output_type": "stream",
     "text": [
      "9\n"
     ]
    }
   ],
   "source": [
    "print(arrd[2][2])"
   ]
  },
  {
   "cell_type": "code",
   "execution_count": 40,
   "id": "8d0773af-e0c4-4165-ac58-5d9f409eb9eb",
   "metadata": {},
   "outputs": [],
   "source": [
    "# important functionalities"
   ]
  },
  {
   "cell_type": "code",
   "execution_count": 41,
   "id": "74ba36eb-f00a-443b-bcf0-574bfc10b31e",
   "metadata": {},
   "outputs": [],
   "source": [
    "dot=np.dot(arrd,arrd)"
   ]
  },
  {
   "cell_type": "code",
   "execution_count": 42,
   "id": "f5e2f7ed-30e6-4967-8c4b-5ac4b49bbc63",
   "metadata": {},
   "outputs": [
    {
     "data": {
      "text/plain": [
       "array([[ 30,  36,  42],\n",
       "       [ 66,  81,  96],\n",
       "       [102, 126, 150]])"
      ]
     },
     "execution_count": 42,
     "metadata": {},
     "output_type": "execute_result"
    }
   ],
   "source": [
    "dot"
   ]
  },
  {
   "cell_type": "code",
   "execution_count": 43,
   "id": "49544036-32d5-4554-9348-880e03b585f5",
   "metadata": {},
   "outputs": [
    {
     "data": {
      "text/plain": [
       "array([[1, 2, 3],\n",
       "       [4, 5, 6],\n",
       "       [7, 8, 9]])"
      ]
     },
     "execution_count": 43,
     "metadata": {},
     "output_type": "execute_result"
    }
   ],
   "source": [
    "arrd"
   ]
  },
  {
   "cell_type": "code",
   "execution_count": 44,
   "id": "42f54ad0-ce99-4064-bfd4-7b3b63a75bb9",
   "metadata": {},
   "outputs": [],
   "source": [
    "# generating the random values"
   ]
  },
  {
   "cell_type": "code",
   "execution_count": 45,
   "id": "5b336389-c013-42d9-ae2c-101561b6f405",
   "metadata": {},
   "outputs": [],
   "source": [
    "# random integer between the [0,1]"
   ]
  },
  {
   "cell_type": "code",
   "execution_count": 46,
   "id": "0ad26e1a-4636-4f6c-a8af-2833d4d581a3",
   "metadata": {},
   "outputs": [
    {
     "name": "stdout",
     "output_type": "stream",
     "text": [
      "0.06389660672992481\n"
     ]
    }
   ],
   "source": [
    "print(np.random.rand())"
   ]
  },
  {
   "cell_type": "code",
   "execution_count": 47,
   "id": "6bee4b5e-e779-4b12-a1eb-93b72a47adbe",
   "metadata": {},
   "outputs": [],
   "source": [
    "# to get the matrix of the random values of desired shape"
   ]
  },
  {
   "cell_type": "code",
   "execution_count": 48,
   "id": "f4bd7c20-38f7-4a6b-ada5-0dc36449373a",
   "metadata": {},
   "outputs": [
    {
     "name": "stdout",
     "output_type": "stream",
     "text": [
      "[[0.75430579 0.20730585 0.42895896]\n",
      " [0.92103588 0.20916344 0.71117509]\n",
      " [0.02505832 0.19502344 0.70442574]]\n"
     ]
    }
   ],
   "source": [
    "print(np.random.rand(3,3))"
   ]
  },
  {
   "cell_type": "code",
   "execution_count": 49,
   "id": "74985638-3d15-4e03-9928-66b4610750d9",
   "metadata": {},
   "outputs": [],
   "source": [
    "# generate the random integer values in numpy\n"
   ]
  },
  {
   "cell_type": "code",
   "execution_count": 50,
   "id": "75ff60cd-fb2e-4f66-a99f-3a728cb5a35f",
   "metadata": {},
   "outputs": [
    {
     "name": "stdout",
     "output_type": "stream",
     "text": [
      "[3]\n"
     ]
    }
   ],
   "source": [
    "print(np.random.randint(3,5,1))"
   ]
  },
  {
   "cell_type": "code",
   "execution_count": 51,
   "id": "a8f8b353-3c97-4e29-97fe-d4af214113b8",
   "metadata": {},
   "outputs": [],
   "source": [
    "# here 5 is exclusive"
   ]
  },
  {
   "cell_type": "code",
   "execution_count": 52,
   "id": "6b373d5c-4e1b-4137-97e9-32c5db62b20a",
   "metadata": {},
   "outputs": [
    {
     "name": "stdout",
     "output_type": "stream",
     "text": [
      "[[1 3 8]\n",
      " [1 7 7]\n",
      " [3 3 5]]\n"
     ]
    }
   ],
   "source": [
    "print(np.random.randint(1,10,(3,3)))"
   ]
  },
  {
   "cell_type": "code",
   "execution_count": 53,
   "id": "757934e8-93ae-474c-a34f-7f05cdbd8c4b",
   "metadata": {},
   "outputs": [
    {
     "name": "stdout",
     "output_type": "stream",
     "text": [
      "15\n"
     ]
    }
   ],
   "source": [
    "print(arrd.trace())"
   ]
  },
  {
   "cell_type": "code",
   "execution_count": 54,
   "id": "e5c090ea-ffb2-437d-951b-60521ac52de7",
   "metadata": {},
   "outputs": [
    {
     "name": "stdout",
     "output_type": "stream",
     "text": [
      "45\n"
     ]
    }
   ],
   "source": [
    "print(arrd.sum())"
   ]
  },
  {
   "cell_type": "code",
   "execution_count": 55,
   "id": "383b7abd-6243-4980-a40c-afb18421f8a8",
   "metadata": {},
   "outputs": [
    {
     "name": "stdout",
     "output_type": "stream",
     "text": [
      "30\n"
     ]
    }
   ],
   "source": [
    "print(arr.max())"
   ]
  },
  {
   "cell_type": "code",
   "execution_count": 56,
   "id": "8c215489-8482-4567-a8a8-8c81909e9409",
   "metadata": {},
   "outputs": [
    {
     "name": "stdout",
     "output_type": "stream",
     "text": [
      "30\n"
     ]
    }
   ],
   "source": [
    "print(np.max(arr))"
   ]
  },
  {
   "cell_type": "code",
   "execution_count": 57,
   "id": "dccbba10-cc1a-4f82-be4b-867e9c5da009",
   "metadata": {},
   "outputs": [],
   "source": [
    "# sampling the data"
   ]
  },
  {
   "cell_type": "code",
   "execution_count": 58,
   "id": "e23cfff4-0692-4a9e-9b72-15e9af3bd4e2",
   "metadata": {},
   "outputs": [
    {
     "name": "stdout",
     "output_type": "stream",
     "text": [
      "[10 10 10 20 25 10 20 20 20 30]\n"
     ]
    }
   ],
   "source": [
    "print(np.random.choice(arr,10,replace=True))\n"
   ]
  },
  {
   "cell_type": "code",
   "execution_count": 59,
   "id": "c0e803a5-a6f4-4e77-ab4a-020f5ccf0019",
   "metadata": {},
   "outputs": [
    {
     "name": "stdout",
     "output_type": "stream",
     "text": [
      "[ 5 10 20]\n"
     ]
    }
   ],
   "source": [
    "print(np.random.choice(arr,3,replace=False))"
   ]
  },
  {
   "cell_type": "code",
   "execution_count": 60,
   "id": "21838223-d20d-4711-b361-115bcf983785",
   "metadata": {},
   "outputs": [],
   "source": [
    "# if we choose the replace = False we will get non repetitive array but it shpuld be less then the size of the actual array"
   ]
  },
  {
   "cell_type": "code",
   "execution_count": 61,
   "id": "383116ef-a4d5-4dde-8798-762a84bd2b9e",
   "metadata": {},
   "outputs": [],
   "source": [
    "# randomly shuffle the values"
   ]
  },
  {
   "cell_type": "code",
   "execution_count": 62,
   "id": "855794af-4580-471c-9d5f-f120e9d0d8dd",
   "metadata": {},
   "outputs": [],
   "source": [
    "x=[1,2,3,4,5]"
   ]
  },
  {
   "cell_type": "code",
   "execution_count": 63,
   "id": "6d4902b2-05db-43ff-810d-a5a34677b593",
   "metadata": {},
   "outputs": [],
   "source": [
    "np.random.shuffle(x)"
   ]
  },
  {
   "cell_type": "code",
   "execution_count": 64,
   "id": "de751883-ebd6-4972-a693-adeb65e5710f",
   "metadata": {},
   "outputs": [
    {
     "data": {
      "text/plain": [
       "[2, 1, 5, 4, 3]"
      ]
     },
     "execution_count": 64,
     "metadata": {},
     "output_type": "execute_result"
    }
   ],
   "source": [
    "x"
   ]
  },
  {
   "cell_type": "code",
   "execution_count": 65,
   "id": "5ec94b3c-56be-4acb-8fe7-3a1f0486660f",
   "metadata": {},
   "outputs": [
    {
     "name": "stdout",
     "output_type": "stream",
     "text": [
      "None\n"
     ]
    }
   ],
   "source": [
    "print(np.random.seed(42))"
   ]
  },
  {
   "cell_type": "code",
   "execution_count": 66,
   "id": "8791af3f-2f6b-4df6-95b4-3124c70586a4",
   "metadata": {},
   "outputs": [
    {
     "name": "stdout",
     "output_type": "stream",
     "text": [
      "hello world\n"
     ]
    }
   ],
   "source": [
    "print(f\"hello world\")\n"
   ]
  },
  {
   "cell_type": "code",
   "execution_count": 67,
   "id": "9dbb249f-da29-4058-8002-5040ca0a2bf6",
   "metadata": {},
   "outputs": [],
   "source": [
    "# scipy library"
   ]
  },
  {
   "cell_type": "code",
   "execution_count": 68,
   "id": "6a78a47d-16e1-40b9-8527-29f64a07ee6a",
   "metadata": {},
   "outputs": [],
   "source": [
    "# calculation of correction\n"
   ]
  },
  {
   "cell_type": "code",
   "execution_count": 69,
   "id": "d5e22e25-eacc-47d1-8dd8-2f36abf29a34",
   "metadata": {},
   "outputs": [],
   "source": [
    "# generating the samples from the distribution\n",
    "# normal distribution \n",
    "# proabability dens=ity function\n",
    "# cummulative distribution function\n",
    "# calculating the descriptive statistics"
   ]
  },
  {
   "cell_type": "code",
   "execution_count": 70,
   "id": "18b822fe-4a42-4842-86cd-1068c1144483",
   "metadata": {},
   "outputs": [],
   "source": [
    "# scipy and numpy are two librariws pandas were builtup on"
   ]
  },
  {
   "cell_type": "code",
   "execution_count": 71,
   "id": "4713efa4-0c61-40e4-b6bb-ed0c683e041b",
   "metadata": {},
   "outputs": [],
   "source": [
    "# corelation is a numerical measure of statistical relationship\n",
    "# the calculation of orelation was done using pearson's r-value\n"
   ]
  },
  {
   "cell_type": "code",
   "execution_count": 72,
   "id": "6cd3ea11-17c0-4ece-bbbc-1222977e9e54",
   "metadata": {},
   "outputs": [],
   "source": [
    "# -1,1,0 negative positive and no corelation exists"
   ]
  },
  {
   "cell_type": "code",
   "execution_count": null,
   "id": "a77bdb32-1758-444f-9f09-d466e16a31e1",
   "metadata": {},
   "outputs": [],
   "source": []
  }
 ],
 "metadata": {
  "kernelspec": {
   "display_name": "Python 3 (ipykernel)",
   "language": "python",
   "name": "python3"
  },
  "language_info": {
   "codemirror_mode": {
    "name": "ipython",
    "version": 3
   },
   "file_extension": ".py",
   "mimetype": "text/x-python",
   "name": "python",
   "nbconvert_exporter": "python",
   "pygments_lexer": "ipython3",
   "version": "3.12.7"
  }
 },
 "nbformat": 4,
 "nbformat_minor": 5
}
